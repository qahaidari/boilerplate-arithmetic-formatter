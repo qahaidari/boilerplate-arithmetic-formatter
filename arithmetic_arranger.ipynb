{
  "nbformat": 4,
  "nbformat_minor": 0,
  "metadata": {
    "colab": {
      "name": "arithmetic_formatter.ipynb",
      "provenance": [],
      "authorship_tag": "ABX9TyNmpIWxdAMobig3qg9ihWde",
      "include_colab_link": true
    },
    "kernelspec": {
      "name": "python3",
      "display_name": "Python 3"
    },
    "language_info": {
      "name": "python"
    }
  },
  "cells": [
    {
      "cell_type": "markdown",
      "metadata": {
        "id": "view-in-github",
        "colab_type": "text"
      },
      "source": [
        "<a href=\"https://colab.research.google.com/github/qahaidari/boilerplate-arithmetic-formatter/blob/master/arithmetic_formatter.ipynb\" target=\"_parent\"><img src=\"https://colab.research.google.com/assets/colab-badge.svg\" alt=\"Open In Colab\"/></a>"
      ]
    },
    {
      "cell_type": "code",
      "metadata": {
        "id": "xnLiIdJF5jnP"
      },
      "source": [
        "def arithmetic_arranger(problems, solution):\n",
        "  \n",
        "  line1 = \"\"\n",
        "  line2 = \"\"\n",
        "  line3 = \"\"\n",
        "  line4 = \"\"\n",
        "  if len(problems) > 5:\n",
        "    print(\"Error: Too many problems.\")\n",
        "    exit()\n",
        "\n",
        "  for problem in problems:\n",
        "    items = problem.split()\n",
        "    \n",
        "    operand1_str = items[0]\n",
        "    operator = items[1]\n",
        "    operand2_str = items[2]\n",
        "\n",
        "    if not (operator == \"+\" or operator == \"-\"):\n",
        "      print(\"Error: Operator must be '+' or '-'.\")\n",
        "      exit()\n",
        "  \n",
        "    try:\n",
        "      operand1 = int(operand1_str)\n",
        "      operand2 = int(operand2_str)\n",
        "    except:\n",
        "      print(\"Error: Numbers must only contain digits.\")\n",
        "      exit()\n",
        "\n",
        "    width1 = len(operand1_str)\n",
        "    width2 = len(operand2_str)\n",
        "    \n",
        "    if (width1 > 4) or (width2 > 4):\n",
        "      print(\"Error: Numbers cannot be more than four digits.\")\n",
        "      exit()\n",
        "\n",
        "    ralign = max(width1, width2) + 2\n",
        "   \n",
        "    line1 += operand1_str.rjust(ralign) + \"    \" \n",
        "\n",
        "    if operator == \"+\":\n",
        "      result = operand1 + operand2\n",
        "      line2 += operator + operand2_str.rjust(ralign - 1) + \"    \"\n",
        "    elif operator == \"-\":\n",
        "      result = operand1 - operand2\n",
        "      line2 += operator + operand2_str.rjust(ralign - 1) + \"    \"\n",
        "    \n",
        "    # dashes\n",
        "    dashes = \"\"\n",
        "    for i in range(ralign):\n",
        "      dashes += \"-\" \n",
        "   \n",
        "    line3 += dashes.rjust(ralign) + \"    \"\n",
        "    if solution == True:\n",
        "      line4 += str(result).rjust(ralign) + \"    \"\n",
        "  \n",
        "  if solution == True:\n",
        "    line1 = line1.rstrip()\n",
        "    line2 = line2.rstrip()\n",
        "    line3 = line3.rstrip()\n",
        "    line4 = line4.rstrip()\n",
        "    arranged_problems = line1 + '\\n' + line2 + '\\n' + line3 + '\\n' + line4\n",
        "  else:\n",
        "    line1 = line1.rstrip()\n",
        "    line2 = line2.rstrip()\n",
        "    line3 = line3.rstrip()\n",
        "    arranged_problems = line1 + '\\n' + line2 + '\\n' + line3\n",
        "\n",
        "  return arranged_problems"
      ],
      "execution_count": 1,
      "outputs": []
    },
    {
      "cell_type": "code",
      "metadata": {
        "colab": {
          "base_uri": "https://localhost:8080/"
        },
        "id": "lEwCID_T5rGg",
        "outputId": "f1570432-6aa4-4d9b-df61-f6d32c5f3661"
      },
      "source": [
        "print(arithmetic_arranger([\"32 + 698\", \"3801 - 2\", \"45 + 43\", \"123 + 49\"], False))"
      ],
      "execution_count": 2,
      "outputs": [
        {
          "output_type": "stream",
          "text": [
            "   32      3801      45      123\n",
            "+ 698    -    2    + 43    +  49\n",
            "-----    ------    ----    -----\n"
          ],
          "name": "stdout"
        }
      ]
    },
    {
      "cell_type": "code",
      "metadata": {
        "colab": {
          "base_uri": "https://localhost:8080/"
        },
        "id": "Z3XmX33t54uw",
        "outputId": "623dd9f8-7141-4750-d494-7d67c707b3a0"
      },
      "source": [
        "print(arithmetic_arranger([\"32 + 698\", \"3801 - 2\", \"45 + 43\", \"123 + 49\"], True))"
      ],
      "execution_count": 3,
      "outputs": [
        {
          "output_type": "stream",
          "text": [
            "   32      3801      45      123\n",
            "+ 698    -    2    + 43    +  49\n",
            "-----    ------    ----    -----\n",
            "  730      3799      88      172\n"
          ],
          "name": "stdout"
        }
      ]
    }
  ]
}
